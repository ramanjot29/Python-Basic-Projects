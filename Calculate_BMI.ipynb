{
  "nbformat": 4,
  "nbformat_minor": 0,
  "metadata": {
    "colab": {
      "provenance": []
    },
    "kernelspec": {
      "name": "python3",
      "display_name": "Python 3"
    },
    "language_info": {
      "name": "python"
    }
  },
  "cells": [
    {
      "cell_type": "code",
      "execution_count": null,
      "metadata": {
        "id": "6778-hs3_XL1"
      },
      "outputs": [],
      "source": [
        "name = input(\"Enter your name: \")\n",
        "age = int(input(\"Enter your age in years: \"))\n",
        "gender = input(\"Enter your gender: \")\n",
        "\n",
        "# Get user input for weight and height\n",
        "weight_kg = float(input(\"Enter your weight in kilograms: \"))\n",
        "height_m = float(input(\"Enter your height in meters: \"))\n",
        "\n",
        "# Calculate BMI using the formula: BMI = weight (kg) / (height (m) ^ 2)\n",
        "bmi = weight_kg / (height_m ** 2)\n",
        "\n",
        "# Print the BMI for the user\n",
        "print(f\"Hi {name}!,Your BMI is: {bmi:.2f}\")\n",
        "\n",
        "# Interpret the BMI result\n",
        "if bmi < 18.5:\n",
        "    print(\"You are underweight.\")\n",
        "elif 18.5 <= bmi < 24.9:\n",
        "    print(\"You are in a healthy weight range.\")\n",
        "elif 25 <= bmi < 29.9:\n",
        "    print(\"You are overweight.\")\n",
        "else:\n",
        "    print(\"You are obese.\")\n"
      ]
    },
    {
      "cell_type": "code",
      "source": [
        "1.6764"
      ],
      "metadata": {
        "id": "gXdVTBpA_19q"
      },
      "execution_count": null,
      "outputs": []
    }
  ]
}