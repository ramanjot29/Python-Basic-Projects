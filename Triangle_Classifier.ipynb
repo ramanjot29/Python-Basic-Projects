{
  "nbformat": 4,
  "nbformat_minor": 0,
  "metadata": {
    "colab": {
      "provenance": [],
      "authorship_tag": "ABX9TyPlAqGVHYi5zqMmgEKe25EO",
      "include_colab_link": true
    },
    "kernelspec": {
      "name": "python3",
      "display_name": "Python 3"
    },
    "language_info": {
      "name": "python"
    }
  },
  "cells": [
    {
      "cell_type": "markdown",
      "metadata": {
        "id": "view-in-github",
        "colab_type": "text"
      },
      "source": [
        "<a href=\"https://colab.research.google.com/github/ramanjot29/Beginner-level-Python-Program-Triangle_Classifier--4/blob/main/Triangle_Classifier.ipynb\" target=\"_parent\"><img src=\"https://colab.research.google.com/assets/colab-badge.svg\" alt=\"Open In Colab\"/></a>"
      ]
    },
    {
      "cell_type": "code",
      "source": [
        "# Prompt the user for the lengths of the triangle sides\n",
        "a = int(input('A = '))\n",
        "b = int(input('B = '))\n",
        "c = int(input('C = '))\n",
        "\n",
        "# Check the triangle type\n",
        "if a == b == c:\n",
        "    print('This is an Equilateral Triangle')\n",
        "elif a == b or b == c or a == c:\n",
        "    print('This is an Isosceles Triangle')\n",
        "elif a + b <= c or b + c <= a or a + c <= b:\n",
        "    print('Not a triangle')\n",
        "else:\n",
        "    print('This is a Scalene Triangle')\n"
      ],
      "metadata": {
        "id": "lkOsC2gnxF-e"
      },
      "execution_count": null,
      "outputs": []
    }
  ]
}