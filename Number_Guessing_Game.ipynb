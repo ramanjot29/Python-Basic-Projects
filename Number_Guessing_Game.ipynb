{
  "nbformat": 4,
  "nbformat_minor": 0,
  "metadata": {
    "colab": {
      "provenance": [],
      "authorship_tag": "ABX9TyNGbforDO86cuY/QT/7VsSm",
      "include_colab_link": true
    },
    "kernelspec": {
      "name": "python3",
      "display_name": "Python 3"
    },
    "language_info": {
      "name": "python"
    }
  },
  "cells": [
    {
      "cell_type": "markdown",
      "metadata": {
        "id": "view-in-github",
        "colab_type": "text"
      },
      "source": [
        "<a href=\"https://colab.research.google.com/github/ramanjot29/Beginner-level-Python-Number-Guessing-Game--9/blob/main/Number_Guessing_Game.ipynb\" target=\"_parent\"><img src=\"https://colab.research.google.com/assets/colab-badge.svg\" alt=\"Open In Colab\"/></a>"
      ]
    },
    {
      "cell_type": "code",
      "source": [
        "import random as r\n",
        "\n",
        "# Generate a random number between 1 and 5\n",
        "r_num = r.randint(1, 5)\n",
        "\n",
        "# Prompt the user for a guess\n",
        "guess = int(input(\"Enter your guess (1-5): \"))\n",
        "\n",
        "# Check if the guess is correct\n",
        "if guess == r_num:\n",
        "    print(\"You Win\")\n",
        "else:\n",
        "    print(\"The answer is\", r_num)\n",
        "\n",
        "print(\"Game Over! Thank you for playing.\")\n"
      ],
      "metadata": {
        "id": "lkOsC2gnxF-e"
      },
      "execution_count": null,
      "outputs": []
    }
  ]
}