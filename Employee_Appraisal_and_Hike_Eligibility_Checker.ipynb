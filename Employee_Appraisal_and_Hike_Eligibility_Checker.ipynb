{
  "nbformat": 4,
  "nbformat_minor": 0,
  "metadata": {
    "colab": {
      "provenance": [],
      "authorship_tag": "ABX9TyOIxG1FSdvlWwcJxL8T4Wiy",
      "include_colab_link": true
    },
    "kernelspec": {
      "name": "python3",
      "display_name": "Python 3"
    },
    "language_info": {
      "name": "python"
    }
  },
  "cells": [
    {
      "cell_type": "markdown",
      "metadata": {
        "id": "view-in-github",
        "colab_type": "text"
      },
      "source": [
        "<a href=\"https://colab.research.google.com/github/ramanjot29/Beginner-Level-Python--Employee-Appraisal-and-Hike-Eligibility-Checker---10/blob/main/Employee_Appraisal_and_Hike_Eligibility_Checker.ipynb\" target=\"_parent\"><img src=\"https://colab.research.google.com/assets/colab-badge.svg\" alt=\"Open In Colab\"/></a>"
      ]
    },
    {
      "cell_type": "code",
      "source": [
        "# Employee Appraisal and Hike\n",
        "\n",
        "years = int(input('Enter your overall work experience in this organization (in months): '))\n",
        "\n",
        "if years >= 12:\n",
        "    print('Eligible for appraisal and hike')\n",
        "else:\n",
        "    previous_experience = int(input('Enter your work experience before joining this organization (in months): '))\n",
        "    if previous_experience >= 12:\n",
        "        print('Appraisal and Default Hike')\n",
        "    else:\n",
        "        print('Appraisal, No Hike')\n"
      ],
      "metadata": {
        "id": "lkOsC2gnxF-e"
      },
      "execution_count": null,
      "outputs": []
    }
  ]
}