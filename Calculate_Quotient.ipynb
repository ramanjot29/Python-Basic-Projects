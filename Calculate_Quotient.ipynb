{
  "nbformat": 4,
  "nbformat_minor": 0,
  "metadata": {
    "colab": {
      "provenance": [],
      "authorship_tag": "ABX9TyN+s0WUVreBGU0i62MCzaCe",
      "include_colab_link": true
    },
    "kernelspec": {
      "name": "python3",
      "display_name": "Python 3"
    },
    "language_info": {
      "name": "python"
    }
  },
  "cells": [
    {
      "cell_type": "markdown",
      "metadata": {
        "id": "view-in-github",
        "colab_type": "text"
      },
      "source": [
        "<a href=\"https://colab.research.google.com/github/ramanjot29/Beginner-Level-Python-Program-to-Calculate-Quotient-1/blob/main/Calculate_Quotient.ipynb\" target=\"_parent\"><img src=\"https://colab.research.google.com/assets/colab-badge.svg\" alt=\"Open In Colab\"/></a>"
      ]
    },
    {
      "cell_type": "code",
      "source": [
        "# Prompt the user to enter the dividend and divisor\n",
        "dividend = float(input(\"Enter the dividend: \"))\n",
        "divisor = float(input(\"Enter the divisor: \"))\n",
        "\n",
        "# Calculate the quotient\n",
        "quotient = dividend / divisor\n",
        "\n",
        "# Display the result\n",
        "print(\"Quotient is:\", quotient)\n"
      ],
      "metadata": {
        "id": "lkOsC2gnxF-e"
      },
      "execution_count": null,
      "outputs": []
    }
  ]
}