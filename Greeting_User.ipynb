{
  "nbformat": 4,
  "nbformat_minor": 0,
  "metadata": {
    "colab": {
      "provenance": [],
      "authorship_tag": "ABX9TyP+KIPbQGBVROVBeZZXNxox",
      "include_colab_link": true
    },
    "kernelspec": {
      "name": "python3",
      "display_name": "Python 3"
    },
    "language_info": {
      "name": "python"
    }
  },
  "cells": [
    {
      "cell_type": "markdown",
      "metadata": {
        "id": "view-in-github",
        "colab_type": "text"
      },
      "source": [
        "<a href=\"https://colab.research.google.com/github/ramanjot29/Beginner-First-Python-Program-Greeting-User--2/blob/main/Greeting_User.ipynb\" target=\"_parent\"><img src=\"https://colab.research.google.com/assets/colab-badge.svg\" alt=\"Open In Colab\"/></a>"
      ]
    },
    {
      "cell_type": "code",
      "source": [
        "# Prompt the user to enter their name\n",
        "name = input(\"Enter your name: \")\n",
        "\n",
        "# Print a personalized greeting message\n",
        "print(\"Hello {}, congratulations on your first Python program!!\".format(name))\n"
      ],
      "metadata": {
        "id": "lkOsC2gnxF-e"
      },
      "execution_count": null,
      "outputs": []
    }
  ]
}