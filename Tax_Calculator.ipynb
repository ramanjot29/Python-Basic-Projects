{
  "nbformat": 4,
  "nbformat_minor": 0,
  "metadata": {
    "colab": {
      "provenance": [],
      "authorship_tag": "ABX9TyM4hs0R+c+LBNQUmtN36dcC",
      "include_colab_link": true
    },
    "kernelspec": {
      "name": "python3",
      "display_name": "Python 3"
    },
    "language_info": {
      "name": "python"
    }
  },
  "cells": [
    {
      "cell_type": "markdown",
      "metadata": {
        "id": "view-in-github",
        "colab_type": "text"
      },
      "source": [
        "<a href=\"https://colab.research.google.com/github/ramanjot29/Beginner-Level-Python-Tax-Calculator--6/blob/main/Tax_Calculator.ipynb\" target=\"_parent\"><img src=\"https://colab.research.google.com/assets/colab-badge.svg\" alt=\"Open In Colab\"/></a>"
      ]
    },
    {
      "cell_type": "code",
      "source": [
        "year = int(input('Enter year: '))\n",
        "\n",
        "if year % 4 == 0:\n",
        "    print('This is a Leap Year')\n",
        "elif year % 100 == 0:\n",
        "    print('This is a Leap Year')\n",
        "elif year % 400 == 0:\n",
        "    print('This is a Leap Year')\n",
        "else:\n",
        "    print('This is not a Leap Year')\n"
      ],
      "metadata": {
        "id": "lkOsC2gnxF-e"
      },
      "execution_count": null,
      "outputs": []
    }
  ]
}